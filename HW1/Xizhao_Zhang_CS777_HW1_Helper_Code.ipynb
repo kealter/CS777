{
  "nbformat": 4,
  "nbformat_minor": 0,
  "metadata": {
    "colab": {
      "provenance": []
    },
    "kernelspec": {
      "name": "python3",
      "display_name": "Python 3"
    },
    "language_info": {
      "name": "python"
    }
  },
  "cells": [
    {
      "cell_type": "code",
      "source": [
        "!pip install --ignore-installed -q pyspark==3.2.1"
      ],
      "metadata": {
        "colab": {
          "base_uri": "https://localhost:8080/"
        },
        "id": "DazkoYEnNvCk",
        "outputId": "8ae9eab8-5652-49d4-eef9-2f4f025e3746"
      },
      "execution_count": 1,
      "outputs": [
        {
          "output_type": "stream",
          "name": "stdout",
          "text": [
            "\u001b[2K     \u001b[90m━━━━━━━━━━━━━━━━━━━━━━━━━━━━━━━━━━━━━━━\u001b[0m \u001b[32m281.4/281.4 MB\u001b[0m \u001b[31m4.9 MB/s\u001b[0m eta \u001b[36m0:00:00\u001b[0m\n",
            "\u001b[?25h  Preparing metadata (setup.py) ... \u001b[?25l\u001b[?25hdone\n",
            "\u001b[2K     \u001b[90m━━━━━━━━━━━━━━━━━━━━━━━━━━━━━━━━━━━━━━\u001b[0m \u001b[32m199.0/199.0 kB\u001b[0m \u001b[31m22.4 MB/s\u001b[0m eta \u001b[36m0:00:00\u001b[0m\n",
            "\u001b[?25h  Building wheel for pyspark (setup.py) ... \u001b[?25l\u001b[?25hdone\n"
          ]
        }
      ]
    },
    {
      "cell_type": "code",
      "source": [
        "import os\n",
        "import sys\n",
        "import requests\n",
        "from operator import add\n",
        "\n",
        "from pyspark import SparkConf,SparkContext\n",
        "from pyspark.streaming import StreamingContext\n",
        "\n",
        "from pyspark.sql import SparkSession\n",
        "from pyspark.sql import SQLContext\n",
        "\n",
        "from pyspark.sql.types import *\n",
        "from pyspark.sql import functions as func\n",
        "from pyspark.sql.functions import *\n",
        "\n",
        "spark = SparkSession.builder.master(\"local[*]\").getOrCreate()\n",
        "sc = SparkContext.getOrCreate()\n",
        "sqlContext = SQLContext(sc)\n",
        "\n"
      ],
      "metadata": {
        "colab": {
          "base_uri": "https://localhost:8080/"
        },
        "id": "26OFIJedNvKh",
        "outputId": "f5bf7f50-9ca2-4150-c86d-0110b007c36f"
      },
      "execution_count": 2,
      "outputs": [
        {
          "output_type": "stream",
          "name": "stderr",
          "text": [
            "/usr/local/lib/python3.10/dist-packages/pyspark/sql/context.py:77: FutureWarning: Deprecated in 3.0.0. Use SparkSession.builder.getOrCreate() instead.\n",
            "  warnings.warn(\n"
          ]
        }
      ]
    },
    {
      "cell_type": "code",
      "source": [
        "\n",
        "# requesting Spark context\n",
        "#sc = SparkContext(appName=\"HW1_Task1\")\n"
      ],
      "metadata": {
        "id": "a-C4bfG6gmBN"
      },
      "execution_count": null,
      "outputs": []
    },
    {
      "cell_type": "code",
      "source": [
        "#Exception Handling and removing wrong datalines\n",
        "def isfloat(value):\n",
        "    try:\n",
        "        float(value)\n",
        "        return True\n",
        "\n",
        "    except:\n",
        "         return False"
      ],
      "metadata": {
        "id": "fUfKATdbNvlT"
      },
      "execution_count": 3,
      "outputs": []
    },
    {
      "cell_type": "code",
      "source": [
        "#Function - Cleaning\n",
        "#For example, remove lines if they don’t have 16 values and\n",
        "# checking if the trip distance and fare amount is a float number\n",
        "# checking if the trip duration is more than a minute, trip distance is more than 0.1 miles,\n",
        "# fare amount and total amount are more than 0 dollars\n",
        "def correctRows(p):\n",
        "    if(len(p)==17):\n",
        "        if(isfloat(p[5]) and isfloat(p[11])):\n",
        "            if(float(p[4])> 60 and float(p[5])>0 and float(p[11])> 0 and float(p[16])> 0):\n",
        "                return p\n"
      ],
      "metadata": {
        "id": "PQ6EEJgFNvoP"
      },
      "execution_count": 4,
      "outputs": []
    },
    {
      "cell_type": "code",
      "source": [
        "# Upload the data\n",
        "# At this point you have to upload your data to google colab\n",
        "!wget -O /content/taxi-data-sorted-verysmall.csv https://storage.googleapis.com/met-cs-777-data/taxi-data-sorted-verysmall.csv"
      ],
      "metadata": {
        "id": "X82Ws7RNPkdU",
        "colab": {
          "base_uri": "https://localhost:8080/"
        },
        "outputId": "c131e29c-cc13-4a73-d3e7-322bab704ea8"
      },
      "execution_count": 5,
      "outputs": [
        {
          "output_type": "stream",
          "name": "stdout",
          "text": [
            "--2023-09-18 19:56:07--  https://storage.googleapis.com/met-cs-777-data/taxi-data-sorted-verysmall.csv\n",
            "Resolving storage.googleapis.com (storage.googleapis.com)... 142.251.6.207, 172.217.212.207, 74.125.124.207, ...\n",
            "Connecting to storage.googleapis.com (storage.googleapis.com)|142.251.6.207|:443... connected.\n",
            "HTTP request sent, awaiting response... 200 OK\n",
            "Length: 1921037 (1.8M) [text/csv]\n",
            "Saving to: ‘/content/taxi-data-sorted-verysmall.csv’\n",
            "\n",
            "/content/taxi-data- 100%[===================>]   1.83M  --.-KB/s    in 0.02s   \n",
            "\n",
            "2023-09-18 19:56:08 (84.2 MB/s) - ‘/content/taxi-data-sorted-verysmall.csv’ saved [1921037/1921037]\n",
            "\n"
          ]
        }
      ]
    },
    {
      "cell_type": "code",
      "source": [
        "pwd"
      ],
      "metadata": {
        "colab": {
          "base_uri": "https://localhost:8080/",
          "height": 36
        },
        "id": "pM_-691TQEsI",
        "outputId": "26eaec35-361d-4265-c22f-e8bc1169ff38"
      },
      "execution_count": 6,
      "outputs": [
        {
          "output_type": "execute_result",
          "data": {
            "text/plain": [
              "'/content'"
            ],
            "application/vnd.google.colaboratory.intrinsic+json": {
              "type": "string"
            }
          },
          "metadata": {},
          "execution_count": 6
        }
      ]
    },
    {
      "cell_type": "markdown",
      "source": [
        "# New Section"
      ],
      "metadata": {
        "id": "zV0E1m-AmDRj"
      }
    },
    {
      "cell_type": "code",
      "source": [
        "ls -la"
      ],
      "metadata": {
        "colab": {
          "base_uri": "https://localhost:8080/"
        },
        "id": "qpU6TnrdQE32",
        "outputId": "2c606b68-a1da-47bb-8179-a813a3408203"
      },
      "execution_count": 7,
      "outputs": [
        {
          "output_type": "stream",
          "name": "stdout",
          "text": [
            "total 1896\n",
            "drwxr-xr-x 1 root root    4096 Sep 18 19:56 \u001b[0m\u001b[01;34m.\u001b[0m/\n",
            "drwxr-xr-x 1 root root    4096 Sep 18 19:54 \u001b[01;34m..\u001b[0m/\n",
            "drwxr-xr-x 4 root root    4096 Sep 15 13:21 \u001b[01;34m.config\u001b[0m/\n",
            "drwxr-xr-x 1 root root    4096 Sep 15 13:22 \u001b[01;34msample_data\u001b[0m/\n",
            "-rw-r--r-- 1 root root 1921037 May 13 15:47 taxi-data-sorted-verysmall.csv\n"
          ]
        }
      ]
    },
    {
      "cell_type": "code",
      "source": [
        "# Set your file path here\n",
        "path=\"file:///content/\"\n",
        "\n",
        "# You have 1 files\n",
        "\n",
        "testFile= path + \"taxi-data-sorted-verysmall.csv\"\n",
        "\n",
        "\n",
        "testDataFrame = sqlContext.read.format('csv').options(header='false', inferSchema='true',  sep =\",\").load(testFile)\n",
        "\n",
        "testDataFrame.show()"
      ],
      "metadata": {
        "colab": {
          "base_uri": "https://localhost:8080/"
        },
        "id": "9-7tAoUMQE7X",
        "outputId": "bd11e444-5094-4ee1-828e-7698dd9aa77f"
      },
      "execution_count": 8,
      "outputs": [
        {
          "output_type": "stream",
          "name": "stdout",
          "text": [
            "+--------------------+--------------------+-------------------+-------------------+---+----+----------+---------+----------+---------+----+----+----+----+----+----+----+\n",
            "|                 _c0|                 _c1|                _c2|                _c3|_c4| _c5|       _c6|      _c7|       _c8|      _c9|_c10|_c11|_c12|_c13|_c14|_c15|_c16|\n",
            "+--------------------+--------------------+-------------------+-------------------+---+----+----------+---------+----------+---------+----+----+----+----+----+----+----+\n",
            "|07290D3599E7A0D62...|E7750A37CAB07D0DF...|2013-01-01 00:00:00|2013-01-01 00:02:00|120|0.44|-73.956528|40.716976| -73.96244|40.715008| CSH| 3.5| 0.5| 0.5| 0.0| 0.0| 4.5|\n",
            "|22D70BF00EEB0ADC8...|3FF2709163DE7036F...|2013-01-01 00:02:00|2013-01-01 00:02:00|  0| 0.0|       0.0|      0.0|       0.0|      0.0| CSH|27.0| 0.0| 0.5| 0.0| 0.0|27.5|\n",
            "|0EC22AAF491A8BD91...|778C92B26AE78A9EB...|2013-01-01 00:01:00|2013-01-01 00:03:00|120|0.71|-73.973145|40.752827|-73.965897|40.760445| CSH| 4.0| 0.5| 0.5| 0.0| 0.0| 5.0|\n",
            "|1390FB380189DF6BB...|BE317B986700F63C4...|2013-01-01 00:01:00|2013-01-01 00:03:00|120|0.48|-74.004173|40.720947|-74.003838|40.726189| CSH| 4.0| 0.5| 0.5| 0.0| 0.0| 5.0|\n",
            "|3B4129883A1D05BE8...|7077F9FD5AD649AEA...|2013-01-01 00:01:00|2013-01-01 00:03:00|120|0.61|-73.987373|40.724861|-73.983772|40.730995| CRD| 4.0| 0.5| 0.5| 0.0| 0.0| 5.0|\n",
            "|5FAA7F69213D26A42...|00B7691D86D96AEBD...|2013-01-01 00:02:00|2013-01-01 00:03:00| 60| 0.0|       0.0|      0.0|       0.0|      0.0| CRD| 2.5| 0.5| 0.5|0.25| 0.0|3.75|\n",
            "|DFBFA82ECA8F7059B...|CF8604E72D83840FB...|2013-01-01 00:02:00|2013-01-01 00:03:00| 60|0.39|-73.981544|40.781475|-73.979439|40.784386| CRD| 3.0| 0.5| 0.5| 0.7| 0.0| 4.7|\n",
            "|1E5F4C1CAE7AB3D06...|E0B2F618053518F24...|2013-01-01 00:03:00|2013-01-01 00:04:00| 60| 0.0|-73.993973|40.751266|       0.0|      0.0| CSH| 2.5| 0.5| 0.5| 0.0| 0.0| 3.5|\n",
            "|468244D1361B8A3EB...|BB899DFEA9CC964B5...|2013-01-01 00:00:00|2013-01-01 00:04:00|240|1.71|-73.955383|40.779728|-73.967758|40.760326| CSH| 6.5| 0.5| 0.5| 0.0| 0.0| 7.5|\n",
            "|5F78CC6D4ECD0541B...|B7567F5BFD558C665...|2013-01-01 00:00:00|2013-01-01 00:04:00|240|1.21|   -73.973| 40.79314|-73.981453|40.778465| CRD| 6.0| 0.5| 0.5| 1.3| 0.0| 8.3|\n",
            "|6BA29E9A69B10F218...|ED368552102F12EA2...|2013-01-01 00:01:00|2013-01-01 00:04:00|180|0.74|-73.971138| 40.75898|-73.972206|40.752502| CRD| 4.5| 0.5| 0.5| 0.0| 0.0| 5.5|\n",
            "|75C90377AB710B047...|00B7691D86D96AEBD...|2013-01-01 00:03:00|2013-01-01 00:04:00| 60| 0.0|       0.0|      0.0|       0.0|      0.0| CRD| 3.0| 0.5| 0.5|0.07| 0.0|4.07|\n",
            "|C306CAC565429C128...|E255D5DFB9A967B9D...|2013-01-01 00:01:00|2013-01-01 00:04:00|180|0.84|-73.942841|40.797031| -73.93454|40.797314| CSH| 4.5| 0.5| 0.5| 0.0| 0.0| 5.5|\n",
            "|C4D6E189EF44EB83E...|95B5B3CDA9EDC88AA...|2013-01-01 00:03:00|2013-01-01 00:04:00| 60| 0.0|-73.989189|40.721924|       0.0|      0.0| CSH| 2.5| 0.5| 0.5| 0.0| 0.0| 3.5|\n",
            "|DD467ED2E7DDB5C8B...|1D7876BD692018A5B...|2013-01-01 00:01:00|2013-01-01 00:04:00|180|0.95|-73.976753|40.750706|-73.990089|40.750729| CSH| 5.0| 0.5| 0.5| 0.0| 0.0| 6.0|\n",
            "|F8A0B52B22BB58B3C...|00B7691D86D96AEBD...|2013-01-01 00:03:00|2013-01-01 00:04:00| 60| 0.0|-73.937637|40.758369|-73.937607| 40.75835| CRD| 2.5| 0.5| 0.5|0.25| 0.0|3.75|\n",
            "|120E700FE35B2DDBE...|3EDDD1433E2276DF9...|2013-01-01 00:03:00|2013-01-01 00:05:00|120|0.52|-73.981972|40.752525|-73.985313|40.747738| CSH| 4.0| 0.5| 0.5| 0.0| 0.0| 5.0|\n",
            "|256C6A3CA47F81497...|8FA961982C3FEF438...|2013-01-01 00:00:00|2013-01-01 00:05:00|300|0.13|-73.969841|40.797359|-73.961899|40.812466| CSH| 6.5| 0.5| 0.5| 0.0| 0.0| 7.5|\n",
            "|655E773C92FA44635...|B6EAE07E2AD023B38...|2013-01-01 00:02:00|2013-01-01 00:05:00|180|1.55|-74.003197|40.733032|-74.012985|40.717377| CRD| 6.0| 0.5| 0.5|1.62| 0.0|8.62|\n",
            "|76942C3205E17D7E7...|25BA06A87905667AA...|2013-01-01 00:00:00|2013-01-01 00:05:00|300|0.61|-73.955925|40.781887|-73.963181|40.777832| CSH| 5.0| 0.5| 0.5| 0.0| 0.0| 6.0|\n",
            "+--------------------+--------------------+-------------------+-------------------+---+----+----------+---------+----------+---------+----+----+----+----+----+----+----+\n",
            "only showing top 20 rows\n",
            "\n"
          ]
        }
      ]
    },
    {
      "cell_type": "code",
      "source": [
        "testRDD = testDataFrame.rdd.map(tuple)\n",
        "testRDD.take(1)"
      ],
      "metadata": {
        "id": "nDrjNqbth3GP",
        "colab": {
          "base_uri": "https://localhost:8080/"
        },
        "outputId": "e94172d2-9683-47f5-a539-88b72dbc8e53"
      },
      "execution_count": 9,
      "outputs": [
        {
          "output_type": "execute_result",
          "data": {
            "text/plain": [
              "[('07290D3599E7A0D62097A346EFCC1FB5',\n",
              "  'E7750A37CAB07D0DFF0AF7E3573AC141',\n",
              "  '2013-01-01 00:00:00',\n",
              "  '2013-01-01 00:02:00',\n",
              "  120,\n",
              "  0.44,\n",
              "  -73.956528,\n",
              "  40.716976,\n",
              "  -73.96244,\n",
              "  40.715008,\n",
              "  'CSH',\n",
              "  3.5,\n",
              "  0.5,\n",
              "  0.5,\n",
              "  0.0,\n",
              "  0.0,\n",
              "  4.5)]"
            ]
          },
          "metadata": {},
          "execution_count": 9
        }
      ]
    },
    {
      "cell_type": "code",
      "source": [
        "\n",
        "# calling isfloat and correctRows functions to cleaning up data\n",
        "taxilinesCorrected = testRDD.filter(correctRows)\n",
        "taxilinesCorrected.take(1)"
      ],
      "metadata": {
        "id": "ICsJNxXSN_ub",
        "colab": {
          "base_uri": "https://localhost:8080/"
        },
        "outputId": "ad4d3f7c-94b2-44eb-9ce8-f6d3586c7ad0"
      },
      "execution_count": 10,
      "outputs": [
        {
          "output_type": "execute_result",
          "data": {
            "text/plain": [
              "[('07290D3599E7A0D62097A346EFCC1FB5',\n",
              "  'E7750A37CAB07D0DFF0AF7E3573AC141',\n",
              "  '2013-01-01 00:00:00',\n",
              "  '2013-01-01 00:02:00',\n",
              "  120,\n",
              "  0.44,\n",
              "  -73.956528,\n",
              "  40.716976,\n",
              "  -73.96244,\n",
              "  40.715008,\n",
              "  'CSH',\n",
              "  3.5,\n",
              "  0.5,\n",
              "  0.5,\n",
              "  0.0,\n",
              "  0.0,\n",
              "  4.5)]"
            ]
          },
          "metadata": {},
          "execution_count": 10
        }
      ]
    },
    {
      "cell_type": "code",
      "source": [
        "x = taxilinesCorrected.map(lambda x: (x[0], x[1]))\n",
        "count = x.distinct().countByKey()\n",
        "top10_1 = sorted(count.items(), key=lambda x: -x[1])[:10]\n",
        "results_1 = sc.parallelize(top10_1)\n",
        "results_1.collect()"
      ],
      "metadata": {
        "id": "o64eWSvBah8n",
        "colab": {
          "base_uri": "https://localhost:8080/"
        },
        "outputId": "c0d675e4-ca4b-429e-cd2d-da9c80da33f8"
      },
      "execution_count": 11,
      "outputs": [
        {
          "output_type": "execute_result",
          "data": {
            "text/plain": [
              "[('F899990AB4A6582D6A5F21265725216E', 2),\n",
              " ('582CAF46446FA03320E5178E7BEC1E86', 2),\n",
              " ('DE85355130669A29081912E9AA6CCD5D', 2),\n",
              " ('07290D3599E7A0D62097A346EFCC1FB5', 1),\n",
              " ('0EC22AAF491A8BD91F279350C2B010FD', 1),\n",
              " ('1390FB380189DF6BBFDA4DC847CAD14F', 1),\n",
              " ('3B4129883A1D05BE89F2C929DE136281', 1),\n",
              " ('468244D1361B8A3EB8D206CC394BC9E9', 1),\n",
              " ('5F78CC6D4ECD0541B765FECE17075B6F', 1),\n",
              " ('6BA29E9A69B10F218C1509BEDD7410C2', 1)]"
            ]
          },
          "metadata": {},
          "execution_count": 11
        }
      ]
    },
    {
      "cell_type": "code",
      "source": [
        "# create calculated field for earned money per minute and a count field\n",
        "def calculated(rdd):\n",
        "    new_field =  rdd[16]/(rdd[4]/60)\n",
        "    return rdd + (new_field,) + (1,)\n",
        "newrdd = taxilinesCorrected.map(calculated)\n",
        "sum = newrdd.map(lambda x: (x[1], (x[17], x[18]))).reduceByKey(lambda a, b: (a[0] + b[0], a[1] + b[1]))\n",
        "average = sum.map(lambda x: (x[0], x[1][0] / x[1][1]))\n",
        "top10_2 = average.top(10, key=lambda x: x[1])\n",
        "results_2 = sc.parallelize(top10_2)\n",
        "results_2.collect()"
      ],
      "metadata": {
        "colab": {
          "base_uri": "https://localhost:8080/"
        },
        "id": "SiNg5iwC0D04",
        "outputId": "84182ddc-a76a-4189-89bf-780884b5713a"
      },
      "execution_count": 39,
      "outputs": [
        {
          "output_type": "execute_result",
          "data": {
            "text/plain": [
              "[('371910291B554B9821CA346094832F60', 7.025),\n",
              " ('911299BE5F3FF1DFD6E3F4BFEACB6E26', 5.571428571428571),\n",
              " ('3C80E82705CE0E0A15D12ACD455C0B58', 4.535714285714286),\n",
              " ('8C25B80C13FE9A642D82EE6E5B157C39', 4.5),\n",
              " ('B72DEE45763A098CE0434638D9DAD7B0', 4.428571428571429),\n",
              " ('74D1BD03A75AF44B8293DB50F6943570', 4.355263157894737),\n",
              " ('90253C37D48D6BDCA8E0833804902306', 4.0675675675675675),\n",
              " ('08DB3F9FCF01530D6F7E70EB88C3AE5B', 3.8333333333333335),\n",
              " ('8C72DB8F9EB81A2D4F923C909D93FFDB', 3.75),\n",
              " ('904DB583CC701A7BE6F483CDB2D470D5', 3.74375)]"
            ]
          },
          "metadata": {},
          "execution_count": 39
        }
      ]
    }
  ]
}